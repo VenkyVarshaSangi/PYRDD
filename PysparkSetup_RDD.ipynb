{
 "cells": [
  {
   "cell_type": "code",
   "execution_count": 1,
   "id": "1581bf71",
   "metadata": {},
   "outputs": [
    {
     "name": "stdout",
     "output_type": "stream",
     "text": [
      "Requirement already satisfied: pyspark in c:\\users\\venkatesh\\anaconda3\\lib\\site-packages (3.4.0)\n",
      "Requirement already satisfied: py4j==0.10.9.7 in c:\\users\\venkatesh\\anaconda3\\lib\\site-packages (from pyspark) (0.10.9.7)\n"
     ]
    }
   ],
   "source": [
    "!pip install pyspark"
   ]
  },
  {
   "cell_type": "code",
   "execution_count": 2,
   "id": "85944fb7",
   "metadata": {},
   "outputs": [
    {
     "name": "stdout",
     "output_type": "stream",
     "text": [
      "Requirement already satisfied: findspark in c:\\users\\venkatesh\\anaconda3\\lib\\site-packages (2.0.1)\n"
     ]
    }
   ],
   "source": [
    "!pip install findspark"
   ]
  },
  {
   "cell_type": "code",
   "execution_count": 16,
   "id": "e334daf5",
   "metadata": {},
   "outputs": [],
   "source": [
    "import findspark\n",
    "findspark.init()"
   ]
  },
  {
   "cell_type": "code",
   "execution_count": 17,
   "id": "887055ec",
   "metadata": {},
   "outputs": [],
   "source": [
    "from pyspark.sql import SparkSession\n",
    "from pyspark import SparkContext\n",
    "from pyspark.sql.functions import *\n",
    "spark=SparkSession.builder.appName(\"sparkpractice\").master(\"local\").getOrCreate()"
   ]
  },
  {
   "cell_type": "code",
   "execution_count": 18,
   "id": "9064a31f",
   "metadata": {},
   "outputs": [],
   "source": [
    "import findspark\n",
    "findspark.init()"
   ]
  },
  {
   "cell_type": "code",
   "execution_count": 19,
   "id": "7e2a39dd",
   "metadata": {},
   "outputs": [],
   "source": [
    "from pyspark.sql import SparkSession\n",
    "spark=SparkSession.builder.appName(\"sparkpractice\").master(\"local\").getOrCreate()"
   ]
  },
  {
   "cell_type": "code",
   "execution_count": 20,
   "id": "f84c14b9",
   "metadata": {},
   "outputs": [],
   "source": [
    "sc=spark.sparkContext"
   ]
  },
  {
   "cell_type": "code",
   "execution_count": 21,
   "id": "13c4472f",
   "metadata": {},
   "outputs": [],
   "source": [
    "range_rdd=sc.parallelize([1,2,3,4,5,6],7)\n"
   ]
  },
  {
   "cell_type": "code",
   "execution_count": 22,
   "id": "930c1800",
   "metadata": {},
   "outputs": [
    {
     "name": "stdout",
     "output_type": "stream",
     "text": [
      "ParallelCollectionRDD[8] at readRDDFromFile at PythonRDD.scala:274\n"
     ]
    }
   ],
   "source": [
    "print(range_rdd)"
   ]
  },
  {
   "cell_type": "code",
   "execution_count": 32,
   "id": "ce8fb629",
   "metadata": {},
   "outputs": [],
   "source": [
    "rdd = sc.textFile(\"C:\\\\Users\\\\Venkatesh\\\\Desktop\\\\SparkPracticeFiles\\\\firstFile.txt\")"
   ]
  },
  {
   "cell_type": "code",
   "execution_count": 33,
   "id": "c7df9eae",
   "metadata": {},
   "outputs": [],
   "source": [
    "rdd2 = rdd.flatMap(lambda x: x.split(' '))"
   ]
  },
  {
   "cell_type": "code",
   "execution_count": 34,
   "id": "fb8cb8e5",
   "metadata": {},
   "outputs": [],
   "source": [
    "rdd3 = rdd2.filter(lambda x: len(x) != 0)"
   ]
  },
  {
   "cell_type": "code",
   "execution_count": 35,
   "id": "68df650c",
   "metadata": {},
   "outputs": [],
   "source": [
    "rdd4 = rdd3.map(lambda x: (x,1))"
   ]
  },
  {
   "cell_type": "code",
   "execution_count": 39,
   "id": "8c81de6f",
   "metadata": {},
   "outputs": [
    {
     "data": {
      "text/plain": [
       "[('Hi', 1),\n",
       " ('This', 1),\n",
       " ('is', 6),\n",
       " ('Venkatesh', 1),\n",
       " ('this', 5),\n",
       " ('venkat', 1),\n",
       " ('pridhvi', 1),\n",
       " ('varsha', 1),\n",
       " ('veerabhadrappa', 1),\n",
       " ('sarada', 1),\n",
       " ('nice', 1),\n",
       " ('to', 1),\n",
       " ('meet', 1),\n",
       " ('you', 1),\n",
       " ('it', 1),\n",
       " ('was', 1),\n",
       " ('a', 1),\n",
       " ('good', 1),\n",
       " ('conversation', 1)]"
      ]
     },
     "execution_count": 39,
     "metadata": {},
     "output_type": "execute_result"
    }
   ],
   "source": [
    "rdd4.reduceByKey(lambda x,y : x+y).collect()"
   ]
  },
  {
   "cell_type": "code",
   "execution_count": 37,
   "id": "c9baa27b",
   "metadata": {},
   "outputs": [
    {
     "data": {
      "text/plain": [
       "[('Hi', 1),\n",
       " ('This', 1),\n",
       " ('is', 6),\n",
       " ('Venkatesh', 1),\n",
       " ('this', 5),\n",
       " ('venkat', 1),\n",
       " ('pridhvi', 1),\n",
       " ('varsha', 1),\n",
       " ('veerabhadrappa', 1),\n",
       " ('sarada', 1),\n",
       " ('nice', 1),\n",
       " ('to', 1),\n",
       " ('meet', 1),\n",
       " ('you', 1),\n",
       " ('it', 1),\n",
       " ('was', 1),\n",
       " ('a', 1),\n",
       " ('good', 1),\n",
       " ('conversation', 1)]"
      ]
     },
     "execution_count": 37,
     "metadata": {},
     "output_type": "execute_result"
    }
   ],
   "source": [
    "rdd.flatMap(lambda x : x.split(' ')).map(lambda x: (x,1)).reduceByKey(lambda x,y : x+y).collect()"
   ]
  },
  {
   "cell_type": "code",
   "execution_count": null,
   "id": "6d471538",
   "metadata": {},
   "outputs": [],
   "source": []
  }
 ],
 "metadata": {
  "kernelspec": {
   "display_name": "Python 3 (ipykernel)",
   "language": "python",
   "name": "python3"
  },
  "language_info": {
   "codemirror_mode": {
    "name": "ipython",
    "version": 3
   },
   "file_extension": ".py",
   "mimetype": "text/x-python",
   "name": "python",
   "nbconvert_exporter": "python",
   "pygments_lexer": "ipython3",
   "version": "3.10.9"
  }
 },
 "nbformat": 4,
 "nbformat_minor": 5
}
